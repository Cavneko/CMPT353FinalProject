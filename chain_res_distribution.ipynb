{
 "cells": [
  {
   "cell_type": "code",
   "execution_count": 60,
   "metadata": {},
   "outputs": [],
   "source": [
    "import pandas as pd\n",
    "import numpy as np\n",
    "import folium\n",
    "import math\n",
    "from PIL import Image\n",
    "from PIL.ExifTags import TAGS, GPSTAGS\n",
    "from math import cos, asin, sqrt, pi\n",
    "from folium.plugins import HeatMap\n",
    "from folium import plugins\n",
    "import sys"
   ]
  },
  {
   "cell_type": "code",
   "execution_count": 61,
   "metadata": {},
   "outputs": [],
   "source": [
    "def get_similar(df):\n",
    "    df['amenity'] = df['amenity'].replace(['parking_entrance'], 'parking')\n",
    "    df['amenity'] = df['amenity'].replace(['pub'], 'bar')\n",
    "    df['amenity'] = df['amenity'].replace(['childcare'], 'kindergarten')\n",
    "    df['amenity'] = df['amenity'].replace(['nightclub'], 'bar')\n",
    "    df['amenity'] = df['amenity'].replace(['gambling'], 'casino')\n",
    "    df['amenity'] = df['amenity'].replace(['atm;bank'], 'bank')\n",
    "    df['amenity'] = df['amenity'].replace(['motorcycle_parking'], 'parking')\n",
    "    df['amenity'] = df['amenity'].replace(['drinking_water'], 'fountain')\n",
    "    df['amenity'] = df['amenity'].replace(['doctors'], 'hospital')\n",
    "    df['amenity'] = df['amenity'].replace(['storage'], 'storage_rental')\n",
    "    df['amenity'] = df['amenity'].replace(['internet_cafe'], 'cafe')\n",
    "    df['amenity'] = df['amenity'].replace(['chiropractor'], 'hospital')\n",
    "    df['amenity'] = df['amenity'].replace(['post_depot'], 'post_office')\n",
    "    df['amenity'] = df['amenity'].replace(['Pharmacy'], 'pharmacy')\n",
    "    return df"
   ]
  },
  {
   "cell_type": "code",
   "execution_count": 62,
   "metadata": {},
   "outputs": [],
   "source": [
    "def map_scatter_plot(data_file):\n",
    "    # read file\n",
    "    data = pd.read_csv(data_file, index_col=0)\n",
    "\n",
    "    data_map = folium.Map(location=[49.284808779798745, -123.12244539679432], zoom_start=10)\n",
    "\n",
    "    # add every data point to the map\n",
    "    for index, row in data.iterrows():\n",
    "        folium.Circle(\n",
    "            radius=10,\n",
    "            location=[row['lat'], row['lon']],\n",
    "            color='blue',\n",
    "        ).add_to(data_map)\n",
    "    return data_map\n",
    "        "
   ]
  },
  {
   "cell_type": "code",
   "execution_count": 63,
   "metadata": {},
   "outputs": [],
   "source": [
    "def main():\n",
    "    raw_data= pd.read_json(\"amenities-vancouver.json.gz\", lines=True)\n",
    "    raw_data = raw_data[raw_data['name'].notna()]\n",
    "    distinct_data =raw_data['amenity'].unique()\n",
    "    data = get_similar(raw_data)\n",
    "    filt = ['restaurant']\n",
    "    restaurant = data[data['amenity'].isin(filt) == True]\n",
    "\n",
    "    # incase of data missing restaurant name\n",
    "    restaurant = restaurant.dropna(subset=['name']).reset_index(drop = True)\n",
    "    # get all restaurant in vancouver\n",
    "    restaurant.to_csv('all_restaurant.csv')\n",
    "    all_restaurant = pd.read_csv(\"all_restaurant.csv\")\n",
    "    # remove duplicate information\n",
    "    all_restaurant.drop_duplicates()\n",
    "    \n",
    "    chain_restaurant = all_restaurant[all_restaurant.duplicated(subset=['name'])==True].reset_index(drop = True)\n",
    "    chain_restaurant.to_csv('chain_restaurant.csv')\n",
    "    chain_restaurant = pd.read_csv(\"chain_restaurant.csv\")\n",
    "    chain_restaurant = chain_restaurant[['lat','lon','name']] \n",
    "    all_restaurant = all_restaurant[['lat','lon','name']]\n",
    "    data_map = folium.Map(location=[49.284808779798745, -123.12244539679432], zoom_start=10)\n",
    "    location = []\n",
    "    for index, row in all_restaurant.iterrows():\n",
    "        location.append([row['lat'], row['lon']])\n",
    "    data_map.add_child(plugins.HeatMap(location,blur=28))\n",
    "    data_map.save(outfile= \"all_restaurant.html\")\n",
    "    all_resturant_map = map_scatter_plot(\"all_restaurant.csv\")\n",
    "    all_resturant_map.save(outfile= \"all_restaurant_plot.html\")\n",
    "    for index, row in chain_restaurant.iterrows():\n",
    "        location.append([row['lat'], row['lon']])\n",
    "    data_map.add_child(plugins.HeatMap(location,blur=28))\n",
    "\n",
    "    data_map.save(outfile= \"chain_restaurant.html\")\n",
    "    chain_resturant_map = map_scatter_plot(\"chain_restaurant.csv\")\n",
    "    chain_resturant_map.save(outfile= \"chain_restaurant_plot.html\")"
   ]
  },
  {
   "cell_type": "code",
   "execution_count": 64,
   "metadata": {},
   "outputs": [],
   "source": [
    "if __name__=='__main__':\n",
    "    main()\n",
    "   \n"
   ]
  }
 ],
 "metadata": {
  "interpreter": {
   "hash": "edac005d18d8db2248780fe94ce12f7501234e061d07adf771a605d8e72454d1"
  },
  "kernelspec": {
   "display_name": "Python 3.9.7 64-bit",
   "language": "python",
   "name": "python3"
  },
  "language_info": {
   "codemirror_mode": {
    "name": "ipython",
    "version": 3
   },
   "file_extension": ".py",
   "mimetype": "text/x-python",
   "name": "python",
   "nbconvert_exporter": "python",
   "pygments_lexer": "ipython3",
   "version": "3.9.7"
  },
  "orig_nbformat": 4
 },
 "nbformat": 4,
 "nbformat_minor": 2
}
